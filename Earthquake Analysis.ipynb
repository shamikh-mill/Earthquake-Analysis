{
 "cells": [
  {
   "cell_type": "code",
   "execution_count": 3,
   "metadata": {
    "collapsed": false
   },
   "outputs": [
    {
     "name": "stdout",
     "output_type": "stream",
     "text": [
      "Python: 2.7.11 | 64-bit | (default, Jun 11 2016, 03:41:56) \n",
      "[GCC 4.2.1 Compatible Apple LLVM 6.0 (clang-600.0.57)]\n",
      "scipy: 0.17.1\n",
      "numpy: 1.10.4\n",
      "matplotlib: 1.5.1\n",
      "pandas: 0.18.0\n",
      "sklearn: 0.17\n",
      "Populating the interactive namespace from numpy and matplotlib\n"
     ]
    }
   ],
   "source": [
    "# Check the versions of libraries\n",
    "import sys\n",
    "print('Python: {}'.format(sys.version))\n",
    "import scipy\n",
    "print('scipy: {}'.format(scipy.__version__))\n",
    "import numpy\n",
    "print('numpy: {}'.format(numpy.__version__))\n",
    "%matplotlib inline\n",
    "import matplotlib\n",
    "print('matplotlib: {}'.format(matplotlib.__version__))\n",
    "import pandas\n",
    "print('pandas: {}'.format(pandas.__version__))\n",
    "import sklearn\n",
    "print('sklearn: {}'.format(sklearn.__version__))\n",
    "import pandas\n",
    "from pandas.tools.plotting import scatter_matrix\n",
    "import matplotlib.pyplot as plt\n",
    "%matplotlib inline \n",
    "%pylab inline\n",
    "# make figures bigger\n",
    "pylab.rcParams['figure.figsize'] = (10, 6)"
   ]
  },
  {
   "cell_type": "code",
   "execution_count": 4,
   "metadata": {
    "collapsed": false
   },
   "outputs": [
    {
     "name": "stdout",
     "output_type": "stream",
     "text": [
      "['4.9 - North Atlantic Ocean', '0.4 - 31km NW of West Yellowstone, Montana', '1.0 - 144km SE of McGrath, Alaska', '1.4 - 14km SSE of Ridgemark, California', '1.8 - 17km SSW of Volcano, Hawaii', '-0.5 - 25km SE of Ronan, Montana', '1.6 - 14km SSE of Ridgemark, California', '1.8 - 14km SSE of Ridgemark, California', '0.6 - 22km SSW of La Quinta, CA', '0.5 - 30km SSE of Lakeview, Oregon', '1.1 - 44km E of Hoback, Wyoming', '2.3 - 7km WSW of Ludlow, CA', '1.4 - 59km WNW of Anchor Point, Alaska', '3.3 - 53km SW of Unalaska, Alaska', '1.4 - 22km NNE of Badger, Alaska', '1.3 - 96km WNW of Talkeetna, Alaska', '2.0 - 14km SSE of Ridgemark, California', '1.3 - 22km NNE of Badger, Alaska', '1.6 - 58km E of Cape Yakataga, Alaska', '1.6 - 122km SE of Old Iliamna, Alaska', '1.2 - 22km NNE of Badger, Alaska', '1.2 - 70km ENE of Cape Yakataga, Alaska', '1.0 - 14km SSE of Ridgemark, California', '1.8 - 12km SW of Cape Yakataga, Alaska', '4.0 - 9km ENE of Polykastron, Greece', '1.2 - 62km ENE of Cape Yakataga, Alaska', '1.2 - 28km WNW of Burney, California']\n"
     ]
    }
   ],
   "source": [
    "import urllib2\n",
    "url = \"http://www.cs.duke.edu/courses/fall16/compsci101/data/earthquakeSmall.txt\"\n",
    "source = urllib2.urlopen(url)\n",
    "data = [str(line.strip()[1:]) for line in source]\n",
    "print data "
   ]
  },
  {
   "cell_type": "code",
   "execution_count": 5,
   "metadata": {
    "collapsed": false
   },
   "outputs": [
    {
     "name": "stdout",
     "output_type": "stream",
     "text": [
      "['North Atlantic Ocean', 'Montana', 'Alaska', 'California', 'Hawaii', 'Montana', 'California', 'California', 'CA', 'Oregon', 'Wyoming', 'CA', 'Alaska', 'Alaska', 'Alaska', 'Alaska', 'California', 'Alaska', 'Alaska', 'Alaska', 'Alaska', 'Alaska', 'California', 'Alaska', 'Greece', 'Alaska', 'California']\n",
      "\n",
      "uniquebases set(['North Atlantic Ocean', 'CA', 'Wyoming', 'Alaska', 'Oregon', 'Hawaii', 'Montana', 'California', 'Greece'])\n"
     ]
    }
   ],
   "source": [
    "bases = []\n",
    "dict1 = {}\n",
    "for eq in data: \n",
    "    if \",\" in eq: \n",
    "        loc = str(eq[eq.find(\",\") + 1:])\n",
    "    else: \n",
    "        loc = str(eq[6:])\n",
    "    bases.append(loc.strip())\n",
    "print bases\n",
    "uniquebases = set(bases)\n",
    "print\n",
    "print \"uniquebases\", uniquebases "
   ]
  },
  {
   "cell_type": "code",
   "execution_count": 6,
   "metadata": {
    "collapsed": false
   },
   "outputs": [
    {
     "name": "stdout",
     "output_type": "stream",
     "text": [
      "{'North Atlantic Ocean': 1, 'CA': 2, 'Wyoming': 1, 'Alaska': 12, 'Oregon': 1, 'Hawaii': 1, 'Montana': 2, 'California': 6, 'Greece': 1}\n"
     ]
    }
   ],
   "source": [
    "dict1 = {}\n",
    "for base in bases: \n",
    "    if base not in dict1:\n",
    "        dict1[base] = 0\n",
    "    dict1[base] += 1\n",
    "print dict1"
   ]
  },
  {
   "cell_type": "code",
   "execution_count": 7,
   "metadata": {
    "collapsed": false
   },
   "outputs": [
    {
     "name": "stdout",
     "output_type": "stream",
     "text": [
      "['North Atlantic Ocean', 'CA', 'Wyoming', 'Alaska', 'Oregon', 'Hawaii', 'Montana', 'California', 'Greece']\n",
      "[1, 2, 1, 12, 1, 1, 2, 6, 1]\n"
     ]
    }
   ],
   "source": [
    "x = dict1.keys()\n",
    "y = dict1.values()\n",
    "print x\n",
    "print y"
   ]
  },
  {
   "cell_type": "code",
   "execution_count": 22,
   "metadata": {
    "collapsed": false
   },
   "outputs": [
    {
     "data": {
      "text/html": [
       "<div>\n",
       "<table border=\"1\" class=\"dataframe\">\n",
       "  <thead>\n",
       "    <tr style=\"text-align: right;\">\n",
       "      <th></th>\n",
       "      <th>North Atlantic Ocean</th>\n",
       "      <th>CA</th>\n",
       "      <th>Wyoming</th>\n",
       "      <th>Alaska</th>\n",
       "      <th>Oregon</th>\n",
       "      <th>Hawaii</th>\n",
       "      <th>Montana</th>\n",
       "      <th>California</th>\n",
       "      <th>Greece</th>\n",
       "    </tr>\n",
       "  </thead>\n",
       "  <tbody>\n",
       "    <tr>\n",
       "      <th>0</th>\n",
       "      <td>1</td>\n",
       "      <td>2</td>\n",
       "      <td>1</td>\n",
       "      <td>12</td>\n",
       "      <td>1</td>\n",
       "      <td>1</td>\n",
       "      <td>2</td>\n",
       "      <td>6</td>\n",
       "      <td>1</td>\n",
       "    </tr>\n",
       "  </tbody>\n",
       "</table>\n",
       "</div>"
      ],
      "text/plain": [
       "   North Atlantic Ocean  CA  Wyoming  Alaska  Oregon  Hawaii  Montana  \\\n",
       "0                     1   2        1      12       1       1        2   \n",
       "\n",
       "   California  Greece  \n",
       "0           6       1  "
      ]
     },
     "execution_count": 22,
     "metadata": {},
     "output_type": "execute_result"
    }
   ],
   "source": [
    "myarray = numpy.array([array(y)])\n",
    "mydataframe = pandas.DataFrame(myarray, columns = array(x))\n",
    "mydataframe"
   ]
  },
  {
   "cell_type": "code",
   "execution_count": 47,
   "metadata": {
    "collapsed": false
   },
   "outputs": [
    {
     "data": {
      "text/plain": [
       "<matplotlib.text.Text at 0x115159750>"
      ]
     },
     "execution_count": 47,
     "metadata": {},
     "output_type": "execute_result"
    },
    {
     "data": {
      "image/png": "[encoded data removed]",
      "text/plain": [
       "<matplotlib.figure.Figure at 0x117c9c250>"
      ]
     },
     "metadata": {},
     "output_type": "display_data"
    }
   ],
   "source": [
    "my_plot = mydataframe.plot(kind='bar',legend='Number',title=\"Earthquakes in October\")\n",
    "my_plot.set_xlabel(\"Location\")\n",
    "my_plot.set_ylabel(\"Number of Earthquakes\")"
   ]
  },
  {
   "cell_type": "code",
   "execution_count": null,
   "metadata": {
    "collapsed": true
   },
   "outputs": [],
   "source": []
  }
 ],
 "metadata": {
  "kernelspec": {
   "display_name": "Python 2",
   "language": "python",
   "name": "python2"
  },
  "language_info": {
   "codemirror_mode": {
    "name": "ipython",
    "version": 2
   },
   "file_extension": ".py",
   "mimetype": "text/x-python",
   "name": "python",
   "nbconvert_exporter": "python",
   "pygments_lexer": "ipython2",
   "version": "2.7.11"
  }
 },
 "nbformat": 4,
 "nbformat_minor": 0
}
